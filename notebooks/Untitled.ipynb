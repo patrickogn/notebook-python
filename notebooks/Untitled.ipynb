{
 "cells": [
  {
   "cell_type": "markdown",
   "id": "757d0aeb-a298-47b9-b7e1-018936e129e5",
   "metadata": {},
   "source": [
    "# Øvelse 1"
   ]
  },
  {
   "cell_type": "code",
   "execution_count": null,
   "id": "1efc402c-1e31-4271-a757-8d1fdc3adf5e",
   "metadata": {},
   "outputs": [],
   "source": [
    "# Lav en funktion der kan printe tallene 0-10\n"
   ]
  },
  {
   "cell_type": "code",
   "execution_count": 12,
   "id": "5cc242ae-1f71-47fd-a35f-68db0e4e1a93",
   "metadata": {},
   "outputs": [
    {
     "name": "stdout",
     "output_type": "stream",
     "text": [
      "1\n",
      "2\n",
      "3\n",
      "4\n",
      "5\n",
      "6\n",
      "7\n",
      "8\n",
      "9\n",
      "10\n",
      "11\n",
      "12\n",
      "1\n",
      "2\n",
      "3\n",
      "4\n",
      "5\n",
      "6\n",
      "7\n",
      "8\n",
      "9\n",
      "10\n",
      "11\n",
      "12\n",
      "13\n",
      "14\n",
      "15\n",
      "16\n",
      "17\n",
      "18\n",
      "19\n",
      "20\n",
      "21\n",
      "22\n",
      "23\n",
      "24\n",
      "25\n",
      "26\n",
      "27\n",
      "28\n",
      "29\n",
      "30\n",
      "31\n",
      "32\n",
      "33\n",
      "34\n",
      "35\n",
      "36\n",
      "37\n",
      "38\n",
      "39\n",
      "40\n",
      "41\n",
      "42\n",
      "43\n",
      "44\n",
      "45\n",
      "46\n",
      "47\n",
      "48\n",
      "49\n",
      "50\n",
      "51\n",
      "52\n",
      "53\n",
      "54\n",
      "55\n",
      "56\n",
      "57\n",
      "58\n",
      "59\n",
      "60\n",
      "61\n",
      "62\n",
      "63\n",
      "64\n",
      "65\n",
      "66\n",
      "67\n",
      "68\n",
      "69\n"
     ]
    }
   ],
   "source": [
    "def count(numbers):\n",
    "    for i in range(numbers):\n",
    "        print(i+1)\n",
    "        \n",
    "        \n",
    "count(12)\n",
    "count(69)"
   ]
  },
  {
   "cell_type": "code",
   "execution_count": 7,
   "id": "ba733247-618c-43ed-8c35-b11e69666fae",
   "metadata": {
    "tags": []
   },
   "outputs": [
    {
     "name": "stdout",
     "output_type": "stream",
     "text": [
      "Hello Flemming\n"
     ]
    }
   ],
   "source": [
    "def counter(name):\n",
    "    print('Hello '+name)\n",
    "\n",
    "counter('Flemming')"
   ]
  },
  {
   "cell_type": "code",
   "execution_count": 6,
   "id": "37e84134-3b5a-4318-b40a-f1e03fbf3dd4",
   "metadata": {},
   "outputs": [
    {
     "name": "stdout",
     "output_type": "stream",
     "text": [
      "1\n",
      "2\n",
      "3\n",
      "4\n",
      "5\n",
      "6\n",
      "7\n",
      "8\n",
      "9\n",
      "10\n"
     ]
    }
   ],
   "source": [
    "def count2():\n",
    "    for i in range(10):\n",
    "        print(i+1)\n",
    "count2()"
   ]
  },
  {
   "cell_type": "code",
   "execution_count": null,
   "id": "25341758-6167-4bfa-8f42-99cedff96843",
   "metadata": {},
   "outputs": [],
   "source": []
  }
 ],
 "metadata": {
  "kernelspec": {
   "display_name": "Python 3 (ipykernel)",
   "language": "python",
   "name": "python3"
  },
  "language_info": {
   "codemirror_mode": {
    "name": "ipython",
    "version": 3
   },
   "file_extension": ".py",
   "mimetype": "text/x-python",
   "name": "python",
   "nbconvert_exporter": "python",
   "pygments_lexer": "ipython3",
   "version": "3.10.6"
  }
 },
 "nbformat": 4,
 "nbformat_minor": 5
}
