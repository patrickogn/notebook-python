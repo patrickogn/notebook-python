{
 "cells": [
  {
   "cell_type": "markdown",
   "metadata": {
    "slideshow": {
     "slide_type": "slide"
    }
   },
   "source": [
    "## CLI Arguments in Python"
   ]
  },
  {
   "cell_type": "code",
   "execution_count": 1,
   "metadata": {
    "slideshow": {
     "slide_type": "subslide"
    }
   },
   "outputs": [
    {
     "name": "stdout",
     "output_type": "stream",
     "text": [
      "['/opt/conda/lib/python3.7/site-packages/ipykernel_launcher.py', '-f', '/tmp/kernel-c6e58cba-bfd9-442a-93d2-194a8d81b27a.json']\n"
     ]
    }
   ],
   "source": [
    "import sys\n",
    "print(sys.argv)"
   ]
  },
  {
   "cell_type": "markdown",
   "metadata": {
    "slideshow": {
     "slide_type": "subslide"
    }
   },
   "source": [
    "## argparse library\n",
    "\n",
    "https://docs.python.org/3/library/argparse.html"
   ]
  },
  {
   "cell_type": "markdown",
   "metadata": {
    "slideshow": {
     "slide_type": "subslide"
    }
   },
   "source": [
    "### argparse example\n",
    "```python\n",
    "import argparse\n",
    "parser= argparse.ArgumentParser(description='A program that downloads a URL and stores it locally')\n",
    "print(parser.parse_args())\n",
    "```"
   ]
  },
  {
   "cell_type": "markdown",
   "metadata": {
    "slideshow": {
     "slide_type": "subslide"
    }
   },
   "source": [
    "## Adding positional arguments\n",
    "\n",
    "```python\n",
    "parser.add_argument('url', help='an integer for the accumulator')\n",
    "```\n",
    "\n",
    "* Positional arguments are **required**"
   ]
  },
  {
   "cell_type": "markdown",
   "metadata": {
    "slideshow": {
     "slide_type": "subslide"
    }
   },
   "source": [
    "## Getting argument values\n",
    "\n",
    "```python3\n",
    "args = parser.parse_args()\n",
    "print(args.url)\n",
    "```"
   ]
  },
  {
   "cell_type": "markdown",
   "metadata": {},
   "source": [
    "## See example in modules/cli_examples\n",
    "from the docker container terminal at /home/jovyan/work/modules/cli_examples run:  \n",
    "`python cli_5.py` and:  \n",
    "`python cli_5.py example.com -d /tmp` and   \n",
    "`python cli_5.py --help`"
   ]
  },
  {
   "cell_type": "markdown",
   "metadata": {
    "slideshow": {
     "slide_type": "subslide"
    }
   },
   "source": [
    "## Exercise\n",
    "\n",
    "1. Create a file with a `if __name__ == '__main__':` clause\n",
    "2. Use the `argparse` library to create an `ArgumentParser`\n",
    "3. Add the *positional* argument `name` that gives you a string\n",
    "4. Save that name into a string"
   ]
  },
  {
   "cell_type": "markdown",
   "metadata": {
    "slideshow": {
     "slide_type": "subslide"
    }
   },
   "source": [
    "## Adding optional arguments\n",
    "\n",
    "* Convention: optional arguments are prepended with `-` or `--`\n",
    "\n",
    "```python3\n",
    "parser.add_argument('--destination', help='The name of the file to store the url in')\n",
    "```"
   ]
  },
  {
   "cell_type": "code",
   "execution_count": 1,
   "metadata": {},
   "outputs": [
    {
     "name": "stdout",
     "output_type": "stream",
     "text": [
      "'00-1 Exam.ipynb'\r\n",
      "'00 Videos.ipynb'\r\n",
      "'01-0 Getting Started with installations etc.ipynb'\r\n",
      "'01-0 Test setup.ipynb'\r\n",
      "'01-1 Intro.ipynb'\r\n",
      "'01-2 Python language features.ipynb'\r\n",
      "'01-3 Python data structures (lists and tuples).ipynb'\r\n",
      "'01-4 Data structures (Dictionaries).ipynb'\r\n",
      " 01-Exercise.ipynb\r\n",
      "'02-1 Loops.ipynb'\r\n",
      "'02-2 Functions.ipynb'\r\n",
      "'02-3 Modules.ipynb'\r\n",
      " 02-4_argparse.ipynb\r\n",
      "'02-5 Working with Files.ipynb'\r\n",
      "'02-6 Testing.ipynb'\r\n",
      " 02-Exercise.ipynb\r\n",
      "'03-1 Object-oriented Programming.ipynb'\r\n",
      "'03-2 Exceptions.ipynb'\r\n",
      "'03-3 Plotting.ipynb'\r\n",
      " 03-Exercise.ipynb\r\n",
      " 04-Exercise.ipynb\r\n",
      "'04 Numpy.ipynb'\r\n",
      "'05-1 Time series.ipynb'\r\n",
      "'05-2 pandas.ipynb'\r\n",
      "'05-3 Subprocess.ipynb'\r\n",
      " 05-Exercise.ipynb\r\n",
      "'06-1 Iterators and Generators.ipynb'\r\n",
      "'06-2 Requests.ipynb'\r\n",
      "'06-3 Concurrency vs Paralelism.ipynb'\r\n",
      " 06-Exercise.ipynb\r\n",
      "'07-1 webscraping.ipynb'\r\n",
      "'07-2 Regular Expressions.ipynb'\r\n",
      "'07-3 selenium.ipynb'\r\n",
      " 07x.ipynb\r\n",
      " 08-1-Machine-Learning-basics-and-Feature-spaces.ipynb\r\n",
      " 08-2-Linear-Algebra.ipynb\r\n",
      "'08-3 numeric_data.ipynb'\r\n",
      " 08-4-Linear-Regression-model-sklearn.ipynb\r\n",
      " 08-Exercise.ipynb\r\n",
      "'09-1 Clustering With MeanShift.ipynb'\r\n",
      "'09-2 Clustering Titanic example.ipynb'\r\n",
      " 10-0-Classification.ipynb\r\n",
      " 10-1-Perceptron-Classifier.ipynb\r\n",
      " 11-2-Exercise-Perceptrons.ipynb\r\n",
      " 11-3-Neural-Networks.ipynb\r\n",
      " 11-4-handwritten-numbers.ipynb\r\n",
      " 11-5-Classification-decision-tree.ipynb\r\n",
      " 11-6-Model-Validation.ipynb\r\n",
      " 11Exercise.ipynb\r\n",
      " 12-1-OpenCV.ipynb\r\n",
      "'12-2-Object recognition.ipynb'\r\n",
      " 12Exercise.ipynb\r\n",
      " 13-1-Text-Preprocessing.ipynb\r\n",
      " 13-1-wordclouds.ipynb\r\n",
      " 13-2-IMDB-Reviewtext-binary-classification.ipynb\r\n",
      " 3d_histo2.png\r\n",
      " 3d_histo.png\r\n",
      " agendas\r\n",
      " data\r\n",
      " Exam_proposals2019.md\r\n",
      " exam_questions.md\r\n",
      " flask\r\n",
      " images\r\n",
      " __init__.py\r\n",
      " modules\r\n",
      " my_notebooks\r\n",
      " nltk_data\r\n",
      " obj-detected.jpg\r\n",
      " osm2.html\r\n",
      " osm.html\r\n",
      " pi_30_digits.txt\r\n",
      " pi_million_digits.txt\r\n",
      " squares_plot.png\r\n",
      " winemag-data-130k-v2.csv\r\n"
     ]
    }
   ],
   "source": [
    "!ls"
   ]
  },
  {
   "cell_type": "markdown",
   "metadata": {
    "slideshow": {
     "slide_type": "subslide"
    }
   },
   "source": [
    "## Optional arguments shorthands\n",
    "\n",
    "```python3\n",
    "parser.add_argument('-d', '--destination', help='The name of the file to store the url in')\n",
    "```"
   ]
  },
  {
   "cell_type": "markdown",
   "metadata": {
    "slideshow": {
     "slide_type": "subslide"
    }
   },
   "source": [
    "## Argument default values\n",
    "\n",
    "```python3\n",
    "parser.add_argument('-d', '--destination', default='default_file.exe' help='The name of the file to store the url in')\n",
    "```"
   ]
  },
  {
   "cell_type": "markdown",
   "metadata": {
    "slideshow": {
     "slide_type": "subslide"
    }
   },
   "source": [
    "## Exercise\n",
    "\n",
    "Implement a small download program, using `https://hackernews.com` as a test URL:\n",
    "\n",
    "1. Create a cli program to take 2 arguments: url (required) and destination_file (optional)\n",
    "2. Create a description of what the program does\n",
    "3. Implement the download part\n",
    "  * If no destination file was specified, save the file in `default_file.dat`\n",
    "4. Improve the code: if no destination file was specified, use the last subset of the URL as the name for the file\n",
    "5. Improve the code: if no destination file was specified, use the MIME-type of the HTTP header to guess the file extension"
   ]
  },
  {
   "cell_type": "code",
   "execution_count": 4,
   "metadata": {},
   "outputs": [],
   "source": [
    "import requests\n",
    "response = requests.get(\"https://hackernews.com\")\n",
    "txt = response.text\n",
    "with open(\"data/todelete.txt\", \"w\") as tdl:\n",
    "    tdl.write(txt)"
   ]
  },
  {
   "cell_type": "code",
   "execution_count": 5,
   "metadata": {},
   "outputs": [
    {
     "name": "stdout",
     "output_type": "stream",
     "text": [
      "<html lang=\"en\" op=\"news\"><head><meta name=\"referrer\" content=\"origin\"><meta name=\"viewport\" content=\"width=device-width, initial-scale=1.0\"><link rel=\"stylesheet\" type=\"text/css\" href=\"news.css?CC3O3g8R3a6BgIE1hihI\">\r\n",
      "        <link rel=\"shortcut icon\" href=\"favicon.ico\">\r\n",
      "          <link rel=\"alternate\" type=\"application/rss+xml\" title=\"RSS\" href=\"rss\">\r\n",
      "        <title>Hacker News</title></head><body><center><table id=\"hnmain\" border=\"0\" cellpadding=\"0\" cellspacing=\"0\" width=\"85%\" bgcolor=\"#f6f6ef\">\r\n",
      "        <tr><td bgcolor=\"#ff6600\"><table border=\"0\" cellpadding=\"0\" cellspacing=\"0\" width=\"100%\" style=\"padding:2px\"><tr><td style=\"width:18px;padding-right:4px\"><a href=\"https://news.ycombinator.com\"><img src=\"y18.gif\" width=\"18\" height=\"18\" style=\"border:1px white solid;\"></a></td>\r\n",
      "                  <td style=\"line-height:12pt; height:10px;\"><span class=\"pagetop\"><b class=\"hnname\"><a href=\"news\">Hacker News</a></b>\r\n",
      "                            <a href=\"newest\">new</a> | <a href=\"front\">past</a> | <a href=\"newcomments\">comments</a> | <a href=\"ask\">ask</a> | <a href=\"show\">show</a> | <a href=\"jobs\">jobs</a> | <a href=\"submit\">submit</a>            </span></td><td style=\"text-align:right;padding-right:4px;\"><span class=\"pagetop\">\r\n",
      "                              <a href=\"login?goto=news\">login</a>\r\n",
      "                          </span></td>\r\n",
      "              </tr></table></td></tr>\r\n",
      "<tr id=\"pagespace\" title=\"\" style=\"height:10px\"></tr><tr><td><table border=\"0\" cellpadding=\"0\" cellspacing=\"0\" class=\"itemlist\">\r\n",
      "              <tr class='athing' id='32648131'>\r\n",
      "      <td align=\"right\" valign=\"top\" class=\"title\"><span class=\"rank\">1.</span></td>      <td valign=\"top\" class=\"votelinks\"><center><a id='up_32648131'href='vote?id=32648131&amp;how=up&amp;goto=news'><div class='votearrow' title='upvote'></div></a></center></td><td class=\"title\"><a href=\"https://adguard.com/en/blog/adguard-mv3.html\" class=\"titlelink\">AdGuard publishes the first ad blocker built on Manifest V3</a><span class=\"sitebit comhead\"> (<a href=\"from?site=adguard.com\"><span class=\"sitestr\">adguard.com</span></a>)</span></td></tr><tr><td colspan=\"2\"></td><td class=\"subtext\">\r\n",
      "        <span class=\"score\" id=\"score_32648131\">139 points</span> by <a href=\"user?id=kapsteur\" class=\"hnuser\">kapsteur</a> <span class=\"age\" title=\"2022-08-30T08:55:09\"><a href=\"item?id=32648131\">4 hours ago</a></span> <span id=\"unv_32648131\"></span> | <a href=\"hide?id=32648131&amp;goto=news\">hide</a> | <a href=\"item?id=32648131\">107&nbsp;comments</a>              </td></tr>\r\n",
      "      <tr class=\"spacer\" style=\"height:5px\"></tr>\r\n",
      "                <tr class='athing' id='32648438'>\r\n",
      "      <td align=\"right\" valign=\"top\" class=\"title\"><span class=\"rank\">2.</span></td>      <td valign=\"top\" class=\"votelinks\"><center><a id='up_32648438'href='vote?id=32648438&amp;how=up&amp;goto=news'><div class='votearrow' title='upvote'></div></a></center></td><td class=\"title\"><a href=\"https://computerhistory.org/events/making-smalltalk/\" class=\"titlelink\">50 years Smalltalk anniversary celebration at Computer History Museum</a><span class=\"sitebit comhead\"> (<a href=\"from?site=computerhistory.org\"><span class=\"sitestr\">computerhistory.org</span></a>)</span></td></tr><tr><td colspan=\"2\"></td><td class=\"subtext\">\r\n",
      "        <span class=\"score\" id=\"score_32648438\">80 points</span> by <a href=\"user?id=pjmlp\" class=\"hnuser\">pjmlp</a> <span class=\"age\" title=\"2022-08-30T09:42:10\"><a href=\"item?id=32648438\">3 hours ago</a></span> <span id=\"unv_32648438\"></span> | <a href=\"hide?id=32648438&amp;goto=news\">hide</a> | <a href=\"item?id=32648438\">24&nbsp;comments</a>              </td></tr>\r\n",
      "      <tr class=\"spacer\" style=\"height:5px\"></tr>\r\n",
      "                <tr class='athing' id='32648359'>\r\n",
      "      <td align=\"right\" valign=\"top\" class=\"title\"><span class=\"rank\">3.</span></td>      <td valign=\"top\" class=\"votelinks\"><center><a id='up_32648359'href='vote?id=32648359&amp;how=up&amp;goto=news'><div class='votearrow' title='upvote'></div></a></center></td><td class=\"title\"><a href=\"https://justine.lol/cosmopolitan/howfat.html\" class=\"titlelink\">Kb executable runs natively on 7 operating systems</a><span class=\"sitebit comhead\"> (<a href=\"from?site=justine.lol\"><span class=\"sitestr\">justine.lol</span></a>)</span></td></tr><tr><td colspan=\"2\"></td><td class=\"subtext\">\r\n",
      "        <span class=\"score\" id=\"score_32648359\">62 points</span> by <a href=\"user?id=draugadrotten\" class=\"hnuser\">draugadrotten</a> <span class=\"age\" title=\"2022-08-30T09:31:03\"><a href=\"item?id=32648359\">3 hours ago</a></span> <span id=\"unv_32648359\"></span> | <a href=\"hide?id=32648359&amp;goto=news\">hide</a> | <a href=\"item?id=32648359\">23&nbsp;comments</a>              </td></tr>\r\n",
      "      <tr class=\"spacer\" style=\"height:5px\"></tr>\r\n",
      "                <tr class='athing' id='32647227'>\r\n",
      "      <td align=\"right\" valign=\"top\" class=\"title\"><span class=\"rank\">4.</span></td>      <td valign=\"top\" class=\"votelinks\"><center><a id='up_32647227'href='vote?id=32647227&amp;how=up&amp;goto=news'><div class='votearrow' title='upvote'></div></a></center></td><td class=\"title\"><a href=\"https://xn--ubhnchen-1za.vercel.app/\" class=\"titlelink\">Show HN: Ubähnchen – Animated subway map of Berlin</a><span class=\"sitebit comhead\"> (<a href=\"from?site=xn--ubhnchen-1za.vercel.app\"><span class=\"sitestr\">xn--ubhnchen-1za.vercel.app</span></a>)</span></td></tr><tr><td colspan=\"2\"></td><td class=\"subtext\">\r\n",
      "        <span class=\"score\" id=\"score_32647227\">202 points</span> by <a href=\"user?id=Elzear\" class=\"hnuser\">Elzear</a> <span class=\"age\" title=\"2022-08-30T06:24:51\"><a href=\"item?id=32647227\">6 hours ago</a></span> <span id=\"unv_32647227\"></span> | <a href=\"hide?id=32647227&amp;goto=news\">hide</a> | <a href=\"item?id=32647227\">82&nbsp;comments</a>              </td></tr>\r\n",
      "      <tr class=\"spacer\" style=\"height:5px\"></tr>\r\n",
      "                <tr class='athing' id='32649307'>\r\n",
      "      <td align=\"right\" valign=\"top\" class=\"title\"><span class=\"rank\">5.</span></td>      <td valign=\"top\" class=\"votelinks\"><center><a id='up_32649307'href='vote?id=32649307&amp;how=up&amp;goto=news'><div class='votearrow' title='upvote'></div></a></center></td><td class=\"title\"><a href=\"https://offthegrid.dev/blog/remotely-controlled-lawn-mower\" class=\"titlelink\">Remotely Controlled Lawn Tractor</a><span class=\"sitebit comhead\"> (<a href=\"from?site=offthegrid.dev\"><span class=\"sitestr\">offthegrid.dev</span></a>)</span></td></tr><tr><td colspan=\"2\"></td><td class=\"subtext\">\r\n",
      "        <span class=\"score\" id=\"score_32649307\">20 points</span> by <a href=\"user?id=ziggy1911\" class=\"hnuser\">ziggy1911</a> <span class=\"age\" title=\"2022-08-30T12:08:04\"><a href=\"item?id=32649307\">1 hour ago</a></span> <span id=\"unv_32649307\"></span> | <a href=\"hide?id=32649307&amp;goto=news\">hide</a> | <a href=\"item?id=32649307\">3&nbsp;comments</a>              </td></tr>\r\n",
      "      <tr class=\"spacer\" style=\"height:5px\"></tr>\r\n",
      "                <tr class='athing' id='32649091'>\r\n",
      "      <td align=\"right\" valign=\"top\" class=\"title\"><span class=\"rank\">6.</span></td>      <td valign=\"top\" class=\"votelinks\"><center><a id='up_32649091'href='vote?id=32649091&amp;how=up&amp;goto=news'><div class='votearrow' title='upvote'></div></a></center></td><td class=\"title\"><a href=\"http://rcmap.hatnote.com/#en\" class=\"titlelink\">Wikipedia Recent Changes Map</a><span class=\"sitebit comhead\"> (<a href=\"from?site=hatnote.com\"><span class=\"sitestr\">hatnote.com</span></a>)</span></td></tr><tr><td colspan=\"2\"></td><td class=\"subtext\">\r\n",
      "        <span class=\"score\" id=\"score_32649091\">21 points</span> by <a href=\"user?id=vinnyglennon\" class=\"hnuser\">vinnyglennon</a> <span class=\"age\" title=\"2022-08-30T11:37:43\"><a href=\"item?id=32649091\">1 hour ago</a></span> <span id=\"unv_32649091\"></span> | <a href=\"hide?id=32649091&amp;goto=news\">hide</a> | <a href=\"item?id=32649091\">5&nbsp;comments</a>              </td></tr>\r\n",
      "      <tr class=\"spacer\" style=\"height:5px\"></tr>\r\n",
      "                <tr class='athing' id='32649350'>\r\n",
      "      <td align=\"right\" valign=\"top\" class=\"title\"><span class=\"rank\">7.</span></td>      <td valign=\"top\" class=\"votelinks\"><center><a id='up_32649350'href='vote?id=32649350&amp;how=up&amp;goto=news'><div class='votearrow' title='upvote'></div></a></center></td><td class=\"title\"><a href=\"https://maximumtruth.substack.com/p/the-covid-fudge-factor\" class=\"titlelink\">Covid “Fudge Factor” – A map of Covid data corruption and approach that worked</a><span class=\"sitebit comhead\"> (<a href=\"from?site=maximumtruth.substack.com\"><span class=\"sitestr\">maximumtruth.substack.com</span></a>)</span></td></tr><tr><td colspan=\"2\"></td><td class=\"subtext\">\r\n",
      "        <span class=\"score\" id=\"score_32649350\">32 points</span> by <a href=\"user?id=pannkor\" class=\"hnuser\">pannkor</a> <span class=\"age\" title=\"2022-08-30T12:13:19\"><a href=\"item?id=32649350\">1 hour ago</a></span> <span id=\"unv_32649350\"></span> | <a href=\"hide?id=32649350&amp;goto=news\">hide</a> | <a href=\"item?id=32649350\">12&nbsp;comments</a>              </td></tr>\r\n",
      "      <tr class=\"spacer\" style=\"height:5px\"></tr>\r\n",
      "                <tr class='athing' id='32646690'>\r\n",
      "      <td align=\"right\" valign=\"top\" class=\"title\"><span class=\"rank\">8.</span></td>      <td valign=\"top\" class=\"votelinks\"><center><a id='up_32646690'href='vote?id=32646690&amp;how=up&amp;goto=news'><div class='votearrow' title='upvote'></div></a></center></td><td class=\"title\"><a href=\"https://devlog.hexops.com/2022/packed-structs-in-zig/\" class=\"titlelink\">Packed structs in Zig make bit/flag sets trivial</a><span class=\"sitebit comhead\"> (<a href=\"from?site=hexops.com\"><span class=\"sitestr\">hexops.com</span></a>)</span></td></tr><tr><td colspan=\"2\"></td><td class=\"subtext\">\r\n",
      "        <span class=\"score\" id=\"score_32646690\">139 points</span> by <a href=\"user?id=slimsag\" class=\"hnuser\">slimsag</a> <span class=\"age\" title=\"2022-08-30T04:39:29\"><a href=\"item?id=32646690\">8 hours ago</a></span> <span id=\"unv_32646690\"></span> | <a href=\"hide?id=32646690&amp;goto=news\">hide</a> | <a href=\"item?id=32646690\">106&nbsp;comments</a>              </td></tr>\r\n",
      "      <tr class=\"spacer\" style=\"height:5px\"></tr>\r\n",
      "                <tr class='athing' id='32649252'>\r\n",
      "      <td align=\"right\" valign=\"top\" class=\"title\"><span class=\"rank\">9.</span></td>      <td></td><td class=\"title\"><a href=\"https://www.pachyderm.com/careers/#positions\" class=\"titlelink\" rel=\"nofollow\">Pachyderm Is Hiring Go Distributed Systems and Testing Engineers</a><span class=\"sitebit comhead\"> (<a href=\"from?site=pachyderm.com\"><span class=\"sitestr\">pachyderm.com</span></a>)</span></td></tr><tr><td colspan=\"2\"></td><td class=\"subtext\">\r\n",
      "        <span class=\"age\" title=\"2022-08-30T12:00:19\"><a href=\"item?id=32649252\">1 hour ago</a></span> | <a href=\"hide?id=32649252&amp;goto=news\">hide</a>      </td></tr>\r\n",
      "      <tr class=\"spacer\" style=\"height:5px\"></tr>\r\n",
      "                <tr class='athing' id='32634711'>\r\n",
      "      <td align=\"right\" valign=\"top\" class=\"title\"><span class=\"rank\">10.</span></td>      <td valign=\"top\" class=\"votelinks\"><center><a id='up_32634711'href='vote?id=32634711&amp;how=up&amp;goto=news'><div class='votearrow' title='upvote'></div></a></center></td><td class=\"title\"><a href=\"https://github.com/AmiBlitz/AmiBlitz3\" class=\"titlelink\">AmiBlitz3 – a BASIC-compiler for 68k-Amiga</a><span class=\"sitebit comhead\"> (<a href=\"from?site=github.com/amiblitz\"><span class=\"sitestr\">github.com/amiblitz</span></a>)</span></td></tr><tr><td colspan=\"2\"></td><td class=\"subtext\">\r\n",
      "        <span class=\"score\" id=\"score_32634711\">13 points</span> by <a href=\"user?id=doener\" class=\"hnuser\">doener</a> <span class=\"age\" title=\"2022-08-29T04:06:42\"><a href=\"item?id=32634711\">1 hour ago</a></span> <span id=\"unv_32634711\"></span> | <a href=\"hide?id=32634711&amp;goto=news\">hide</a> | <a href=\"item?id=32634711\">2&nbsp;comments</a>              </td></tr>\r\n",
      "      <tr class=\"spacer\" style=\"height:5px\"></tr>\r\n",
      "                <tr class='athing' id='32646536'>\r\n",
      "      <td align=\"right\" valign=\"top\" class=\"title\"><span class=\"rank\">11.</span></td>      <td valign=\"top\" class=\"votelinks\"><center><a id='up_32646536'href='vote?id=32646536&amp;how=up&amp;goto=news'><div class='votearrow' title='upvote'></div></a></center></td><td class=\"title\"><a href=\"https://altilunium.my.id/blog/osm_selfhost/\" class=\"titlelink\">Host your own OpenStreetMap Map Tiles</a><span class=\"sitebit comhead\"> (<a href=\"from?site=altilunium.my.id\"><span class=\"sitestr\">altilunium.my.id</span></a>)</span></td></tr><tr><td colspan=\"2\"></td><td class=\"subtext\">\r\n",
      "        <span class=\"score\" id=\"score_32646536\">101 points</span> by <a href=\"user?id=altilunium\" class=\"hnuser\">altilunium</a> <span class=\"age\" title=\"2022-08-30T04:09:33\"><a href=\"item?id=32646536\">9 hours ago</a></span> <span id=\"unv_32646536\"></span> | <a href=\"hide?id=32646536&amp;goto=news\">hide</a> | <a href=\"item?id=32646536\">28&nbsp;comments</a>              </td></tr>\r\n",
      "      <tr class=\"spacer\" style=\"height:5px\"></tr>\r\n",
      "                <tr class='athing' id='32648956'>\r\n",
      "      <td align=\"right\" valign=\"top\" class=\"title\"><span class=\"rank\">12.</span></td>      <td valign=\"top\" class=\"votelinks\"><center><a id='up_32648956'href='vote?id=32648956&amp;how=up&amp;goto=news'><div class='votearrow' title='upvote'></div></a></center></td><td class=\"title\"><a href=\"item?id=32648956\" class=\"titlelink\">Ask HN: How do you get side gigs?</a></td></tr><tr><td colspan=\"2\"></td><td class=\"subtext\">\r\n",
      "        <span class=\"score\" id=\"score_32648956\">43 points</span> by <a href=\"user?id=jinglejangley\" class=\"hnuser\">jinglejangley</a> <span class=\"age\" title=\"2022-08-30T11:19:57\"><a href=\"item?id=32648956\">1 hour ago</a></span> <span id=\"unv_32648956\"></span> | <a href=\"hide?id=32648956&amp;goto=news\">hide</a> | <a href=\"item?id=32648956\">41&nbsp;comments</a>              </td></tr>\r\n",
      "      <tr class=\"spacer\" style=\"height:5px\"></tr>\r\n",
      "                <tr class='athing' id='32644277'>\r\n",
      "      <td align=\"right\" valign=\"top\" class=\"title\"><span class=\"rank\">13.</span></td>      <td valign=\"top\" class=\"votelinks\"><center><a id='up_32644277'href='vote?id=32644277&amp;how=up&amp;goto=news'><div class='votearrow' title='upvote'></div></a></center></td><td class=\"title\"><a href=\"https://tomlingham.com/articles/why-are-you-so-busy/\" class=\"titlelink\">Why are you so busy?</a><span class=\"sitebit comhead\"> (<a href=\"from?site=tomlingham.com\"><span class=\"sitestr\">tomlingham.com</span></a>)</span></td></tr><tr><td colspan=\"2\"></td><td class=\"subtext\">\r\n",
      "        <span class=\"score\" id=\"score_32644277\">307 points</span> by <a href=\"user?id=tjlingham\" class=\"hnuser\">tjlingham</a> <span class=\"age\" title=\"2022-08-29T22:17:34\"><a href=\"item?id=32644277\">14 hours ago</a></span> <span id=\"unv_32644277\"></span> | <a href=\"hide?id=32644277&amp;goto=news\">hide</a> | <a href=\"item?id=32644277\">103&nbsp;comments</a>              </td></tr>\r\n",
      "      <tr class=\"spacer\" style=\"height:5px\"></tr>\r\n",
      "                <tr class='athing' id='32627841'>\r\n",
      "      <td align=\"right\" valign=\"top\" class=\"title\"><span class=\"rank\">14.</span></td>      <td valign=\"top\" class=\"votelinks\"><center><a id='up_32627841'href='vote?id=32627841&amp;how=up&amp;goto=news'><div class='votearrow' title='upvote'></div></a></center></td><td class=\"title\"><a href=\"https://www.youtube.com/watch?v=zfjFHa5wY0E\" class=\"titlelink\">A History of Silicon Innovation at AWS [video]</a><span class=\"sitebit comhead\"> (<a href=\"from?site=youtube.com\"><span class=\"sitestr\">youtube.com</span></a>)</span></td></tr><tr><td colspan=\"2\"></td><td class=\"subtext\">\r\n",
      "        <span class=\"score\" id=\"score_32627841\">24 points</span> by <a href=\"user?id=slyall\" class=\"hnuser\">slyall</a> <span class=\"age\" title=\"2022-08-28T12:24:07\"><a href=\"item?id=32627841\">4 hours ago</a></span> <span id=\"unv_32627841\"></span> | <a href=\"hide?id=32627841&amp;goto=news\">hide</a> | <a href=\"item?id=32627841\">1&nbsp;comment</a>              </td></tr>\r\n",
      "      <tr class=\"spacer\" style=\"height:5px\"></tr>\r\n",
      "                <tr class='athing' id='32647865'>\r\n",
      "      <td align=\"right\" valign=\"top\" class=\"title\"><span class=\"rank\">15.</span></td>      <td valign=\"top\" class=\"votelinks\"><center><a id='up_32647865'href='vote?id=32647865&amp;how=up&amp;goto=news'><div class='votearrow' title='upvote'></div></a></center></td><td class=\"title\"><a href=\"https://boyter.org/posts/cost-of-integer-cast-in-go/\" class=\"titlelink\">Cost of a Integer Cast in Go</a><span class=\"sitebit comhead\"> (<a href=\"from?site=boyter.org\"><span class=\"sitestr\">boyter.org</span></a>)</span></td></tr><tr><td colspan=\"2\"></td><td class=\"subtext\">\r\n",
      "        <span class=\"score\" id=\"score_32647865\">45 points</span> by <a href=\"user?id=kiyanwang\" class=\"hnuser\">kiyanwang</a> <span class=\"age\" title=\"2022-08-30T08:06:42\"><a href=\"item?id=32647865\">5 hours ago</a></span> <span id=\"unv_32647865\"></span> | <a href=\"hide?id=32647865&amp;goto=news\">hide</a> | <a href=\"item?id=32647865\">38&nbsp;comments</a>              </td></tr>\r\n",
      "      <tr class=\"spacer\" style=\"height:5px\"></tr>\r\n",
      "                <tr class='athing' id='32648801'>\r\n",
      "      <td align=\"right\" valign=\"top\" class=\"title\"><span class=\"rank\">16.</span></td>      <td valign=\"top\" class=\"votelinks\"><center><a id='up_32648801'href='vote?id=32648801&amp;how=up&amp;goto=news'><div class='votearrow' title='upvote'></div></a></center></td><td class=\"title\"><a href=\"item?id=32648801\" class=\"titlelink\">Telegram is asking German users when to share information with law enforcement</a></td></tr><tr><td colspan=\"2\"></td><td class=\"subtext\">\r\n",
      "        <span class=\"score\" id=\"score_32648801\">86 points</span> by <a href=\"user?id=danhor\" class=\"hnuser\">danhor</a> <span class=\"age\" title=\"2022-08-30T10:51:33\"><a href=\"item?id=32648801\">2 hours ago</a></span> <span id=\"unv_32648801\"></span> | <a href=\"hide?id=32648801&amp;goto=news\">hide</a> | <a href=\"item?id=32648801\">92&nbsp;comments</a>              </td></tr>\r\n",
      "      <tr class=\"spacer\" style=\"height:5px\"></tr>\r\n",
      "                <tr class='athing' id='32641028'>\r\n",
      "      <td align=\"right\" valign=\"top\" class=\"title\"><span class=\"rank\">17.</span></td>      <td valign=\"top\" class=\"votelinks\"><center><a id='up_32641028'href='vote?id=32641028&amp;how=up&amp;goto=news'><div class='votearrow' title='upvote'></div></a></center></td><td class=\"title\"><a href=\"https://pudding.cool/2022/08/censorship/\" class=\"titlelink\">The Big [Censored] Theory</a><span class=\"sitebit comhead\"> (<a href=\"from?site=pudding.cool\"><span class=\"sitestr\">pudding.cool</span></a>)</span></td></tr><tr><td colspan=\"2\"></td><td class=\"subtext\">\r\n",
      "        <span class=\"score\" id=\"score_32641028\">1279 points</span> by <a href=\"user?id=feross\" class=\"hnuser\">feross</a> <span class=\"age\" title=\"2022-08-29T17:34:36\"><a href=\"item?id=32641028\">19 hours ago</a></span> <span id=\"unv_32641028\"></span> | <a href=\"hide?id=32641028&amp;goto=news\">hide</a> | <a href=\"item?id=32641028\">725&nbsp;comments</a>              </td></tr>\r\n",
      "      <tr class=\"spacer\" style=\"height:5px\"></tr>\r\n",
      "                <tr class='athing' id='32645501'>\r\n",
      "      <td align=\"right\" valign=\"top\" class=\"title\"><span class=\"rank\">18.</span></td>      <td valign=\"top\" class=\"votelinks\"><center><a id='up_32645501'href='vote?id=32645501&amp;how=up&amp;goto=news'><div class='votearrow' title='upvote'></div></a></center></td><td class=\"title\"><a href=\"https://mullvad.net/tr/help/wireguard-servers-running-from-ram/\" class=\"titlelink\">WireGuard Servers Running from RAM</a><span class=\"sitebit comhead\"> (<a href=\"from?site=mullvad.net\"><span class=\"sitestr\">mullvad.net</span></a>)</span></td></tr><tr><td colspan=\"2\"></td><td class=\"subtext\">\r\n",
      "        <span class=\"score\" id=\"score_32645501\">160 points</span> by <a href=\"user?id=Sami_Lehtinen\" class=\"hnuser\">Sami_Lehtinen</a> <span class=\"age\" title=\"2022-08-30T01:01:51\"><a href=\"item?id=32645501\">12 hours ago</a></span> <span id=\"unv_32645501\"></span> | <a href=\"hide?id=32645501&amp;goto=news\">hide</a> | <a href=\"item?id=32645501\">104&nbsp;comments</a>              </td></tr>\r\n",
      "      <tr class=\"spacer\" style=\"height:5px\"></tr>\r\n",
      "                <tr class='athing' id='32637686'>\r\n",
      "      <td align=\"right\" valign=\"top\" class=\"title\"><span class=\"rank\">19.</span></td>      <td valign=\"top\" class=\"votelinks\"><center><a id='up_32637686'href='vote?id=32637686&amp;how=up&amp;goto=news'><div class='votearrow' title='upvote'></div></a></center></td><td class=\"title\"><a href=\"https://www.ycombinator.com/blog/welcome-home-garry-tan/\" class=\"titlelink\">Welcome Home, Garry Tan</a><span class=\"sitebit comhead\"> (<a href=\"from?site=ycombinator.com\"><span class=\"sitestr\">ycombinator.com</span></a>)</span></td></tr><tr><td colspan=\"2\"></td><td class=\"subtext\">\r\n",
      "        <span class=\"score\" id=\"score_32637686\">709 points</span> by <a href=\"user?id=todsacerdoti\" class=\"hnuser\">todsacerdoti</a> <span class=\"age\" title=\"2022-08-29T13:04:44\"><a href=\"item?id=32637686\">1 day ago</a></span> <span id=\"unv_32637686\"></span> | <a href=\"hide?id=32637686&amp;goto=news\">hide</a> | <a href=\"item?id=32637686\">255&nbsp;comments</a>              </td></tr>\r\n",
      "      <tr class=\"spacer\" style=\"height:5px\"></tr>\r\n",
      "                <tr class='athing' id='32629237'>\r\n",
      "      <td align=\"right\" valign=\"top\" class=\"title\"><span class=\"rank\">20.</span></td>      <td valign=\"top\" class=\"votelinks\"><center><a id='up_32629237'href='vote?id=32629237&amp;how=up&amp;goto=news'><div class='votearrow' title='upvote'></div></a></center></td><td class=\"title\"><a href=\"https://nedbatchelder.com/blog/200312/postscript_control_structures.html\" class=\"titlelink\">PostScript Control Structures</a><span class=\"sitebit comhead\"> (<a href=\"from?site=nedbatchelder.com\"><span class=\"sitestr\">nedbatchelder.com</span></a>)</span></td></tr><tr><td colspan=\"2\"></td><td class=\"subtext\">\r\n",
      "        <span class=\"score\" id=\"score_32629237\">39 points</span> by <a href=\"user?id=ingve\" class=\"hnuser\">ingve</a> <span class=\"age\" title=\"2022-08-28T15:39:56\"><a href=\"item?id=32629237\">7 hours ago</a></span> <span id=\"unv_32629237\"></span> | <a href=\"hide?id=32629237&amp;goto=news\">hide</a> | <a href=\"item?id=32629237\">7&nbsp;comments</a>              </td></tr>\r\n",
      "      <tr class=\"spacer\" style=\"height:5px\"></tr>\r\n",
      "                <tr class='athing' id='32647921'>\r\n",
      "      <td align=\"right\" valign=\"top\" class=\"title\"><span class=\"rank\">21.</span></td>      <td valign=\"top\" class=\"votelinks\"><center><a id='up_32647921'href='vote?id=32647921&amp;how=up&amp;goto=news'><div class='votearrow' title='upvote'></div></a></center></td><td class=\"title\"><a href=\"https://aista.com/blog/using-your-phone-as-a-software-development-platform/\" class=\"titlelink\">Using your phone as a software development platform</a><span class=\"sitebit comhead\"> (<a href=\"from?site=aista.com\"><span class=\"sitestr\">aista.com</span></a>)</span></td></tr><tr><td colspan=\"2\"></td><td class=\"subtext\">\r\n",
      "        <span class=\"score\" id=\"score_32647921\">43 points</span> by <a href=\"user?id=polterguy1001\" class=\"hnuser\">polterguy1001</a> <span class=\"age\" title=\"2022-08-30T08:15:21\"><a href=\"item?id=32647921\">5 hours ago</a></span> <span id=\"unv_32647921\"></span> | <a href=\"hide?id=32647921&amp;goto=news\">hide</a> | <a href=\"item?id=32647921\">36&nbsp;comments</a>              </td></tr>\r\n",
      "      <tr class=\"spacer\" style=\"height:5px\"></tr>\r\n",
      "                <tr class='athing' id='32628567'>\r\n",
      "      <td align=\"right\" valign=\"top\" class=\"title\"><span class=\"rank\">22.</span></td>      <td valign=\"top\" class=\"votelinks\"><center><a id='up_32628567'href='vote?id=32628567&amp;how=up&amp;goto=news'><div class='votearrow' title='upvote'></div></a></center></td><td class=\"title\"><a href=\"https://thechipletter.substack.com/p/noyce-and-the-microprocessor\" class=\"titlelink\">Noyce and the Microprocessor</a><span class=\"sitebit comhead\"> (<a href=\"from?site=thechipletter.substack.com\"><span class=\"sitestr\">thechipletter.substack.com</span></a>)</span></td></tr><tr><td colspan=\"2\"></td><td class=\"subtext\">\r\n",
      "        <span class=\"score\" id=\"score_32628567\">10 points</span> by <a href=\"user?id=klelatti\" class=\"hnuser\">klelatti</a> <span class=\"age\" title=\"2022-08-28T14:18:24\"><a href=\"item?id=32628567\">3 hours ago</a></span> <span id=\"unv_32628567\"></span> | <a href=\"hide?id=32628567&amp;goto=news\">hide</a> | <a href=\"item?id=32628567\">7&nbsp;comments</a>              </td></tr>\r\n",
      "      <tr class=\"spacer\" style=\"height:5px\"></tr>\r\n",
      "                <tr class='athing' id='32628339'>\r\n",
      "      <td align=\"right\" valign=\"top\" class=\"title\"><span class=\"rank\">23.</span></td>      <td valign=\"top\" class=\"votelinks\"><center><a id='up_32628339'href='vote?id=32628339&amp;how=up&amp;goto=news'><div class='votearrow' title='upvote'></div></a></center></td><td class=\"title\"><a href=\"https://link.springer.com/article/10.1007/s00300-020-02675-6\" class=\"titlelink\">Rolling stones gather moss: movement and longevity of moss balls on a glacier</a><span class=\"sitebit comhead\"> (<a href=\"from?site=springer.com\"><span class=\"sitestr\">springer.com</span></a>)</span></td></tr><tr><td colspan=\"2\"></td><td class=\"subtext\">\r\n",
      "        <span class=\"score\" id=\"score_32628339\">16 points</span> by <a href=\"user?id=bookofjoe\" class=\"hnuser\">bookofjoe</a> <span class=\"age\" title=\"2022-08-28T13:44:47\"><a href=\"item?id=32628339\">5 hours ago</a></span> <span id=\"unv_32628339\"></span> | <a href=\"hide?id=32628339&amp;goto=news\">hide</a> | <a href=\"item?id=32628339\">3&nbsp;comments</a>              </td></tr>\r\n",
      "      <tr class=\"spacer\" style=\"height:5px\"></tr>\r\n",
      "                <tr class='athing' id='32645860'>\r\n",
      "      <td align=\"right\" valign=\"top\" class=\"title\"><span class=\"rank\">24.</span></td>      <td valign=\"top\" class=\"votelinks\"><center><a id='up_32645860'href='vote?id=32645860&amp;how=up&amp;goto=news'><div class='votearrow' title='upvote'></div></a></center></td><td class=\"title\"><a href=\"https://github.com/badamczewski/PowerUp\" class=\"titlelink\">PowerUp: IDE Decompilation and Disassembly Tools</a><span class=\"sitebit comhead\"> (<a href=\"from?site=github.com/badamczewski\"><span class=\"sitestr\">github.com/badamczewski</span></a>)</span></td></tr><tr><td colspan=\"2\"></td><td class=\"subtext\">\r\n",
      "        <span class=\"score\" id=\"score_32645860\">61 points</span> by <a href=\"user?id=walterbell\" class=\"hnuser\">walterbell</a> <span class=\"age\" title=\"2022-08-30T02:05:14\"><a href=\"item?id=32645860\">11 hours ago</a></span> <span id=\"unv_32645860\"></span> | <a href=\"hide?id=32645860&amp;goto=news\">hide</a> | <a href=\"item?id=32645860\">4&nbsp;comments</a>              </td></tr>\r\n",
      "      <tr class=\"spacer\" style=\"height:5px\"></tr>\r\n",
      "                <tr class='athing' id='32645822'>\r\n",
      "      <td align=\"right\" valign=\"top\" class=\"title\"><span class=\"rank\">25.</span></td>      <td valign=\"top\" class=\"votelinks\"><center><a id='up_32645822'href='vote?id=32645822&amp;how=up&amp;goto=news'><div class='votearrow' title='upvote'></div></a></center></td><td class=\"title\"><a href=\"https://archive.org/details/msdos_Oregon_Trail_The_1990\" class=\"titlelink\">Play MSDOS Oregon Trail 1990 on archive.org</a><span class=\"sitebit comhead\"> (<a href=\"from?site=archive.org\"><span class=\"sitestr\">archive.org</span></a>)</span></td></tr><tr><td colspan=\"2\"></td><td class=\"subtext\">\r\n",
      "        <span class=\"score\" id=\"score_32645822\">61 points</span> by <a href=\"user?id=dragontamer\" class=\"hnuser\">dragontamer</a> <span class=\"age\" title=\"2022-08-30T01:57:40\"><a href=\"item?id=32645822\">11 hours ago</a></span> <span id=\"unv_32645822\"></span> | <a href=\"hide?id=32645822&amp;goto=news\">hide</a> | <a href=\"item?id=32645822\">22&nbsp;comments</a>              </td></tr>\r\n",
      "      <tr class=\"spacer\" style=\"height:5px\"></tr>\r\n",
      "                <tr class='athing' id='32647642'>\r\n",
      "      <td align=\"right\" valign=\"top\" class=\"title\"><span class=\"rank\">26.</span></td>      <td valign=\"top\" class=\"votelinks\"><center><a id='up_32647642'href='vote?id=32647642&amp;how=up&amp;goto=news'><div class='votearrow' title='upvote'></div></a></center></td><td class=\"title\"><a href=\"https://mobility.kielregion.de/liveaccess/\" class=\"titlelink\">Show HN: Live-Map of Public Transport in Kiel, Germany</a><span class=\"sitebit comhead\"> (<a href=\"from?site=kielregion.de\"><span class=\"sitestr\">kielregion.de</span></a>)</span></td></tr><tr><td colspan=\"2\"></td><td class=\"subtext\">\r\n",
      "        <span class=\"score\" id=\"score_32647642\">18 points</span> by <a href=\"user?id=kaffeeringe\" class=\"hnuser\">kaffeeringe</a> <span class=\"age\" title=\"2022-08-30T07:34:35\"><a href=\"item?id=32647642\">5 hours ago</a></span> <span id=\"unv_32647642\"></span> | <a href=\"hide?id=32647642&amp;goto=news\">hide</a> | <a href=\"item?id=32647642\">6&nbsp;comments</a>              </td></tr>\r\n",
      "      <tr class=\"spacer\" style=\"height:5px\"></tr>\r\n",
      "                <tr class='athing' id='32649123'>\r\n",
      "      <td align=\"right\" valign=\"top\" class=\"title\"><span class=\"rank\">27.</span></td>      <td valign=\"top\" class=\"votelinks\"><center><a id='up_32649123'href='vote?id=32649123&amp;how=up&amp;goto=news'><div class='votearrow' title='upvote'></div></a></center></td><td class=\"title\"><a href=\"https://lulu.substack.com/p/joe-rogan-has-a-werewolf\" class=\"titlelink\">Observations from our Joe Rogan Experience experience</a><span class=\"sitebit comhead\"> (<a href=\"from?site=lulu.substack.com\"><span class=\"sitestr\">lulu.substack.com</span></a>)</span></td></tr><tr><td colspan=\"2\"></td><td class=\"subtext\">\r\n",
      "        <span class=\"score\" id=\"score_32649123\">97 points</span> by <a href=\"user?id=phgn\" class=\"hnuser\">phgn</a> <span class=\"age\" title=\"2022-08-30T11:41:46\"><a href=\"item?id=32649123\">1 hour ago</a></span> <span id=\"unv_32649123\"></span> | <a href=\"hide?id=32649123&amp;goto=news\">hide</a> | <a href=\"item?id=32649123\">149&nbsp;comments</a>              </td></tr>\r\n",
      "      <tr class=\"spacer\" style=\"height:5px\"></tr>\r\n",
      "                <tr class='athing' id='32645063'>\r\n",
      "      <td align=\"right\" valign=\"top\" class=\"title\"><span class=\"rank\">28.</span></td>      <td valign=\"top\" class=\"votelinks\"><center><a id='up_32645063'href='vote?id=32645063&amp;how=up&amp;goto=news'><div class='votearrow' title='upvote'></div></a></center></td><td class=\"title\"><a href=\"https://github.com/brendanartley/Regressio\" class=\"titlelink\">Python library for univariate regression, interpolation, and smoothing</a><span class=\"sitebit comhead\"> (<a href=\"from?site=github.com/brendanartley\"><span class=\"sitestr\">github.com/brendanartley</span></a>)</span></td></tr><tr><td colspan=\"2\"></td><td class=\"subtext\">\r\n",
      "        <span class=\"score\" id=\"score_32645063\">87 points</span> by <a href=\"user?id=codeboy7432\" class=\"hnuser\">codeboy7432</a> <span class=\"age\" title=\"2022-08-29T23:58:48\"><a href=\"item?id=32645063\">13 hours ago</a></span> <span id=\"unv_32645063\"></span> | <a href=\"hide?id=32645063&amp;goto=news\">hide</a> | <a href=\"item?id=32645063\">18&nbsp;comments</a>              </td></tr>\r\n",
      "      <tr class=\"spacer\" style=\"height:5px\"></tr>\r\n",
      "                <tr class='athing' id='32643564'>\r\n",
      "      <td align=\"right\" valign=\"top\" class=\"title\"><span class=\"rank\">29.</span></td>      <td valign=\"top\" class=\"votelinks\"><center><a id='up_32643564'href='vote?id=32643564&amp;how=up&amp;goto=news'><div class='votearrow' title='upvote'></div></a></center></td><td class=\"title\"><a href=\"https://github.com/hlky/sd-enable-textual-inversion\" class=\"titlelink\">Stable Diffusion Textual Inversion</a><span class=\"sitebit comhead\"> (<a href=\"from?site=github.com/hlky\"><span class=\"sitestr\">github.com/hlky</span></a>)</span></td></tr><tr><td colspan=\"2\"></td><td class=\"subtext\">\r\n",
      "        <span class=\"score\" id=\"score_32643564\">382 points</span> by <a href=\"user?id=antman\" class=\"hnuser\">antman</a> <span class=\"age\" title=\"2022-08-29T21:08:00\"><a href=\"item?id=32643564\">16 hours ago</a></span> <span id=\"unv_32643564\"></span> | <a href=\"hide?id=32643564&amp;goto=news\">hide</a> | <a href=\"item?id=32643564\">136&nbsp;comments</a>              </td></tr>\r\n",
      "      <tr class=\"spacer\" style=\"height:5px\"></tr>\r\n",
      "                <tr class='athing' id='32628196'>\r\n",
      "      <td align=\"right\" valign=\"top\" class=\"title\"><span class=\"rank\">30.</span></td>      <td valign=\"top\" class=\"votelinks\"><center><a id='up_32628196'href='vote?id=32628196&amp;how=up&amp;goto=news'><div class='votearrow' title='upvote'></div></a></center></td><td class=\"title\"><a href=\"https://herbertlui.net/dont-think-to-write-write-to-think/\" class=\"titlelink\">Don’t think to write, write to think</a><span class=\"sitebit comhead\"> (<a href=\"from?site=herbertlui.net\"><span class=\"sitestr\">herbertlui.net</span></a>)</span></td></tr><tr><td colspan=\"2\"></td><td class=\"subtext\">\r\n",
      "        <span class=\"score\" id=\"score_32628196\">424 points</span> by <a href=\"user?id=herbertl\" class=\"hnuser\">herbertl</a> <span class=\"age\" title=\"2022-08-28T13:21:22\"><a href=\"item?id=32628196\">16 hours ago</a></span> <span id=\"unv_32628196\"></span> | <a href=\"hide?id=32628196&amp;goto=news\">hide</a> | <a href=\"item?id=32628196\">124&nbsp;comments</a>              </td></tr>\r\n",
      "      <tr class=\"spacer\" style=\"height:5px\"></tr>\r\n",
      "            <tr class=\"morespace\" style=\"height:10px\"></tr><tr><td colspan=\"2\"></td>\r\n",
      "      <td class='title'><a href='news?p=2' class='morelink' rel='next'>More</a></td>    </tr>\r\n",
      "  </table>\r\n",
      "</td></tr>\r\n",
      "<tr><td><img src=\"s.gif\" height=\"10\" width=\"0\"><table width=\"100%\" cellspacing=\"0\" cellpadding=\"1\"><tr><td bgcolor=\"#ff6600\"></td></tr></table><br><center><a href=\"https://www.ycombinator.com/apply/\">\r\n",
      "        Applications are open for YC Winter 2023\r\n",
      "      </a></center><br><center><span class=\"yclinks\"><a href=\"newsguidelines.html\">Guidelines</a>\r\n",
      "        | <a href=\"newsfaq.html\">FAQ</a>\r\n",
      "        | <a href=\"lists\">Lists</a>\r\n",
      "        | <a href=\"https://github.com/HackerNews/API\">API</a>\r\n",
      "        | <a href=\"security.html\">Security</a>\r\n",
      "        | <a href=\"http://www.ycombinator.com/legal/\">Legal</a>\r\n",
      "        | <a href=\"http://www.ycombinator.com/apply/\">Apply to YC</a>\r\n",
      "        | <a href=\"mailto:hn@ycombinator.com\">Contact</a></span><br><br><form method=\"get\" action=\"//hn.algolia.com/\">Search:\r\n",
      "          <input type=\"text\" name=\"q\" value=\"\" size=\"17\" autocorrect=\"off\" spellcheck=\"false\" autocapitalize=\"off\" autocomplete=\"false\"></form>\r\n",
      "            </center></td></tr>\r\n",
      "      </table></center></body>\r\n",
      "      <script type='text/javascript' src='hn.js?CC3O3g8R3a6BgIE1hihI'></script>\r\n",
      "  </html>\r\n"
     ]
    }
   ],
   "source": [
    "!cat data/todelete.txt"
   ]
  }
 ],
 "metadata": {
  "celltoolbar": "Slideshow",
  "kernelspec": {
   "display_name": "Python 3",
   "language": "python",
   "name": "python3"
  },
  "language_info": {
   "codemirror_mode": {
    "name": "ipython",
    "version": 3
   },
   "file_extension": ".py",
   "mimetype": "text/x-python",
   "name": "python",
   "nbconvert_exporter": "python",
   "pygments_lexer": "ipython3",
   "version": "3.10.4 (v3.10.4:9d38120e33, Mar 23 2022, 17:29:05) [Clang 13.0.0 (clang-1300.0.29.30)]"
  },
  "varInspector": {
   "cols": {
    "lenName": 16,
    "lenType": 16,
    "lenVar": 40
   },
   "kernels_config": {
    "python": {
     "delete_cmd_postfix": "",
     "delete_cmd_prefix": "del ",
     "library": "var_list.py",
     "varRefreshCmd": "print(var_dic_list())"
    },
    "r": {
     "delete_cmd_postfix": ") ",
     "delete_cmd_prefix": "rm(",
     "library": "var_list.r",
     "varRefreshCmd": "cat(var_dic_list()) "
    }
   },
   "types_to_exclude": [
    "module",
    "function",
    "builtin_function_or_method",
    "instance",
    "_Feature"
   ],
   "window_display": false
  },
  "vscode": {
   "interpreter": {
    "hash": "aee8b7b246df8f9039afb4144a1f6fd8d2ca17a180786b69acc140d282b71a49"
   }
  }
 },
 "nbformat": 4,
 "nbformat_minor": 2
}
